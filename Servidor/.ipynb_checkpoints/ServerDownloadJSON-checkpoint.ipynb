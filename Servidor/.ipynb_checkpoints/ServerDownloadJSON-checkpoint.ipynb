{
 "cells": [
  {
   "cell_type": "code",
   "execution_count": 1,
   "metadata": {
    "collapsed": false
   },
   "outputs": [
    {
     "ename": "SyntaxError",
     "evalue": "invalid syntax (<ipython-input-1-856661465b3d>, line 1)",
     "output_type": "error",
     "traceback": [
      "\u001b[1;36m  File \u001b[1;32m\"<ipython-input-1-856661465b3d>\"\u001b[1;36m, line \u001b[1;32m1\u001b[0m\n\u001b[1;33m    File Transfer model #3\u001b[0m\n\u001b[1;37m                ^\u001b[0m\n\u001b[1;31mSyntaxError\u001b[0m\u001b[1;31m:\u001b[0m invalid syntax\n"
     ]
    }
   ],
   "source": [
    "# File Transfer model #3\n",
    "#\n",
    "# In which the client requests each chunk individually, using\n",
    "# command pipelining to give us a credit-based flow control.\n",
    "\n",
    "import os\n",
    "from threading import Thread\n",
    "\n",
    "import zmq\n",
    "\n",
    "from zhelpers import socket_set_hwm, zpipe\n",
    "\n",
    "CHUNK_SIZE = 250000\n",
    "\n",
    "\n",
    "# .split File server thread\n",
    "# The server thread waits for a chunk request from a client,\n",
    "# reads that chunk and sends it back to the client:\n",
    "\n",
    "def server_thread(ctx):\n",
    "    file = open(\"outputNotas.json\", \"r\")\n",
    "\n",
    "    router = ctx.socket(zmq.ROUTER)\n",
    "\n",
    "    router.bind(\"tcp://*:6000\")\n",
    "\n",
    "    while True:\n",
    "        # First frame in each message is the sender identity\n",
    "        # Second frame is \"fetch\" command\n",
    "        try:\n",
    "            msg = router.recv_multipart()\n",
    "        except zmq.ZMQError as e:\n",
    "            if e.errno == zmq.ETERM:\n",
    "                return   # shutting down, quit\n",
    "            else:\n",
    "                raise\n",
    "\n",
    "        identity, command, offset_str, chunksz_str = msg\n",
    "\n",
    "        assert command == b\"fetch\"\n",
    "\n",
    "        offset = int(offset_str)\n",
    "        chunksz = int(chunksz_str)\n",
    "\n",
    "        # Read chunk of data from file\n",
    "        file.seek(offset, os.SEEK_SET)\n",
    "        data = file.read(chunksz)\n",
    "\n",
    "        # Send resulting chunk to client\n",
    "        router.send_multipart([identity, data])\n",
    "\n",
    "# The main task is just the same as in the first model.\n",
    "# .skip\n",
    "\n",
    "def main():\n",
    "\n",
    "    # Start child threads\n",
    "    ctx = zmq.Context()\n",
    "    a,b = zpipe(ctx)\n",
    "    \n",
    "    server = Thread(target=server_thread, args=(ctx,))\n",
    "    server.start()\n",
    "\n",
    "    # loop until client tells us it's done\n",
    "    try:\n",
    "        print a.recv()\n",
    "    except KeyboardInterrupt:\n",
    "        pass\n",
    "    del a,b\n",
    "    ctx.term()\n",
    "\n",
    "if __name__ == '__main__':\n",
    "    main()"
   ]
  },
  {
   "cell_type": "code",
   "execution_count": null,
   "metadata": {
    "collapsed": true
   },
   "outputs": [],
   "source": []
  }
 ],
 "metadata": {
  "kernelspec": {
   "display_name": "Python 2",
   "language": "python",
   "name": "python2"
  },
  "language_info": {
   "codemirror_mode": {
    "name": "ipython",
    "version": 2
   },
   "file_extension": ".py",
   "mimetype": "text/x-python",
   "name": "python",
   "nbconvert_exporter": "python",
   "pygments_lexer": "ipython2",
   "version": "2.7.6"
  }
 },
 "nbformat": 4,
 "nbformat_minor": 0
}
